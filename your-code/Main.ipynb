{
 "cells": [
  {
   "cell_type": "code",
   "execution_count": 1,
   "id": "51b245c2-5373-49c0-8087-a171de07ec85",
   "metadata": {},
   "outputs": [],
   "source": [
    "import requests\n",
    "import pandas as pd\n",
    "import json\n",
    "\n",
    "from getpass import getpass"
   ]
  },
  {
   "cell_type": "code",
   "execution_count": null,
   "id": "2a038edc-5c12-4fb1-b706-ecb5a42f876a",
   "metadata": {},
   "outputs": [
    {
     "name": "stdin",
     "output_type": "stream",
     "text": [
      " ········································\n"
     ]
    },
    {
     "name": "stdout",
     "output_type": "stream",
     "text": [
      "200\n"
     ]
    }
   ],
   "source": [
    "url = 'https://api.github.com/users'\n",
    "\n",
    "token = getpass()\n",
    "user ='Rita-Oliv'\n",
    "repo ='ironhack-datalabs/bcn-feb-2019'\n",
    "\n",
    "# Contain any metadata that needs to be included with the request\n",
    "headers = {'Authorization':f'Token {token}'}\n",
    "\n",
    "# This will prompt you for a password\n",
    "repo=requests.get(url, headers=headers)\n",
    "print(repo.status_code)"
   ]
  },
  {
   "cell_type": "markdown",
   "id": "0540265f-06a7-4be4-83fb-0e36d91585c5",
   "metadata": {},
   "source": [
    "### Challenge 1: Fork Languages"
   ]
  },
  {
   "cell_type": "code",
   "execution_count": 3,
   "id": "59278947-7f21-4734-8cfb-cd1d2a4a2292",
   "metadata": {},
   "outputs": [
    {
     "data": {
      "text/plain": [
       "[None, None, None, None, None, 'Jupyter Notebook']"
      ]
     },
     "execution_count": 3,
     "metadata": {},
     "output_type": "execute_result"
    }
   ],
   "source": [
    "# This will give us acess to the fork information\n",
    "response = requests.get(\"https://api.github.com/repos/ironhack-datalabs/bcn-feb-2019/forks\", headers=headers)\n",
    "\n",
    "fork = response.json()\n",
    "\n",
    "language = []\n",
    "\n",
    "for i in fork:\n",
    "    language.append(i['language'])\n",
    "\n",
    "language"
   ]
  },
  {
   "cell_type": "markdown",
   "id": "894306c3-db87-45cf-9189-6b1ec50fbf2b",
   "metadata": {},
   "source": [
    "### Challenge 2: Count Commits"
   ]
  },
  {
   "cell_type": "code",
   "execution_count": 8,
   "id": "135b23b6-f562-4efd-8961-0459ce8e968d",
   "metadata": {},
   "outputs": [
    {
     "data": {
      "text/plain": [
       "30"
      ]
     },
     "execution_count": 8,
     "metadata": {},
     "output_type": "execute_result"
    }
   ],
   "source": [
    "# \"https://api.github.com/search/commits?q={query}{&page,per_page,sort,order}\"\n",
    "inputs = { 'since' : \"2020-06-29\"}\n",
    "response = requests.get(\"https://api.github.com/repos/ta-data-lis/lab-mysql-first-queries/forks\", inputs, headers=headers)\n",
    "\n",
    "commit = response.json()\n",
    "\n",
    "# Count how many commits were made in the past 2 weeks:\n",
    "commit = pd.DataFrame(commit)\n",
    "len(commit)"
   ]
  },
  {
   "cell_type": "code",
   "execution_count": null,
   "id": "6abeb553-a9da-4e2f-92f0-bf601dc96175",
   "metadata": {},
   "outputs": [],
   "source": []
  },
  {
   "cell_type": "code",
   "execution_count": null,
   "id": "d9b3ce98-3809-4b67-b91b-151e515f0219",
   "metadata": {},
   "outputs": [],
   "source": []
  }
 ],
 "metadata": {
  "kernelspec": {
   "display_name": "Python 3 (ipykernel)",
   "language": "python",
   "name": "python3"
  },
  "language_info": {
   "codemirror_mode": {
    "name": "ipython",
    "version": 3
   },
   "file_extension": ".py",
   "mimetype": "text/x-python",
   "name": "python",
   "nbconvert_exporter": "python",
   "pygments_lexer": "ipython3",
   "version": "3.8.2"
  }
 },
 "nbformat": 4,
 "nbformat_minor": 5
}
